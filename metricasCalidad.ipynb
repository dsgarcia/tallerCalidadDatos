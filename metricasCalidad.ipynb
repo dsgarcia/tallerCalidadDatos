{
 "cells": [
  {
   "cell_type": "markdown",
   "metadata": {},
   "source": [
    "#Calidad de Datos y Big Data en Ingeniería de Software"
   ]
  },
  {
   "cell_type": "code",
   "execution_count": 3,
   "metadata": {},
   "outputs": [],
   "source": [
    "# Se importan librerías\n",
    "import praw\n",
    "from pymongo import MongoClient"
   ]
  },
  {
   "cell_type": "code",
   "execution_count": 1,
   "metadata": {},
   "outputs": [],
   "source": [
    "# Conexión a la base de datos\n",
    "client = MongoClient('localhost', 27017)\n",
    "db = client['subreddits']\n",
    "collection = db['subreddits']"
   ]
  },
  {
   "cell_type": "code",
   "execution_count": null,
   "metadata": {},
   "outputs": [],
   "source": [
    "document_count = collection.count_documents({})\n"
   ]
  },
  {
   "cell_type": "code",
   "execution_count": 33,
   "metadata": {},
   "outputs": [],
   "source": [
    "def getSubredditSubmissions(subreddit):\n",
    "    #Praw no dispone de un método para obtener la cantidad de submissions de un subreddit, por este motivo se setean como constantes.\n",
    "    CholesterolSubmissions = 5600\n",
    "    StopUsingStatinsSubmissions = 39\n",
    "    if subreddit == \"StopUsingStatins\":\n",
    "        return StopUsingStatinsSubmissions\n",
    "    else:\n",
    "        return CholesterolSubmissions"
   ]
  },
  {
   "cell_type": "code",
   "execution_count": 60,
   "metadata": {},
   "outputs": [],
   "source": [
    "def getSubredditSubmissionInMongo(subreddit):\n",
    "    # Obtener los submissions del subreddit Cholesterol\n",
    "    query = {\"subreddit\": subreddit}\n",
    "    return collection.count_documents(query)"
   ]
  },
  {
   "cell_type": "code",
   "execution_count": 57,
   "metadata": {},
   "outputs": [],
   "source": [
    "# Definicion de funciones para cada uno de los métricas definidas en los modelos de calidad\n",
    "def m_SubPercent(subreddit):\n",
    "    return (getSubredditSubmissionInMongo(subreddit) / getSubredditSubmissions(subreddit))\n",
    "\n",
    "def m_SubPercentCholesterol():\n",
    "    return m_SubPercent(\"Cholesterol\")\n",
    "\n",
    "def m_SubPercentStopUsingStatins():\n",
    "    return m_SubPercent(\"StopUsingStatins\")"
   ]
  },
  {
   "cell_type": "code",
   "execution_count": null,
   "metadata": {},
   "outputs": [],
   "source": [
    "def cons_Document_comments(subreddit):\n",
    "    query = {\"comments_count\": {\"$gt\": 0}, \"comments\": {\"$ne\": \"\"}}\n",
    "    document_count = collection.count_documents(query)\n",
    "    ret"
   ]
  },
  {
   "cell_type": "code",
   "execution_count": 66,
   "metadata": {},
   "outputs": [
    {
     "name": "stdout",
     "output_type": "stream",
     "text": [
      "0.08928571428571429\n",
      "1.0\n"
     ]
    },
    {
     "data": {
      "text/plain": [
       "487"
      ]
     },
     "execution_count": 66,
     "metadata": {},
     "output_type": "execute_result"
    }
   ],
   "source": [
    "print(m_SubPercentCholesterol())\n",
    "print(m_SubPercentStopUsingStatins())\n",
    "\n",
    "query = {\"num_comments\": {\"$gt\": 0}, \"comments\": {\"$ne\": \"\"}}\n",
    "document_count = collection.count_documents(query)\n",
    "document_count\n"
   ]
  }
 ],
 "metadata": {
  "kernelspec": {
   "display_name": "Python 3.8.9 64-bit",
   "language": "python",
   "name": "python3"
  },
  "language_info": {
   "codemirror_mode": {
    "name": "ipython",
    "version": 3
   },
   "file_extension": ".py",
   "mimetype": "text/x-python",
   "name": "python",
   "nbconvert_exporter": "python",
   "pygments_lexer": "ipython3",
   "version": "3.8.9"
  },
  "orig_nbformat": 4,
  "vscode": {
   "interpreter": {
    "hash": "31f2aee4e71d21fbe5cf8b01ff0e069b9275f58929596ceb00d14d90e3e16cd6"
   }
  }
 },
 "nbformat": 4,
 "nbformat_minor": 2
}
